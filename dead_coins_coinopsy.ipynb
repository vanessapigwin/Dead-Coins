{
 "cells": [
  {
   "cell_type": "markdown",
   "id": "c9045c19",
   "metadata": {},
   "source": [
    "### Data Source: Coinopsy.com"
   ]
  },
  {
   "cell_type": "code",
   "execution_count": 1,
   "id": "db2eac53",
   "metadata": {},
   "outputs": [],
   "source": [
    "# import statements\n",
    "from selenium import webdriver\n",
    "from selenium.webdriver.chrome.service import Service\n",
    "from webdriver_manager.chrome import ChromeDriverManager\n",
    "from selenium.webdriver.common.by import By\n",
    "import time\n",
    "import random"
   ]
  },
  {
   "cell_type": "code",
   "execution_count": 2,
   "id": "5f4608a0",
   "metadata": {},
   "outputs": [
    {
     "name": "stderr",
     "output_type": "stream",
     "text": [
      "\n",
      "\n",
      "====== WebDriver manager ======\n",
      "Current google-chrome version is 99.0.4844\n",
      "Get LATEST chromedriver version for 99.0.4844 google-chrome\n",
      "Driver [C:\\Users\\Vanessa\\.wdm\\drivers\\chromedriver\\win32\\99.0.4844.51\\chromedriver.exe] found in cache\n"
     ]
    }
   ],
   "source": [
    "# define ChromeDriverManager service\n",
    "service = Service(executable_path = ChromeDriverManager().install())"
   ]
  },
  {
   "cell_type": "code",
   "execution_count": 3,
   "id": "e42fd42b",
   "metadata": {},
   "outputs": [],
   "source": [
    "# initialize driver and open website\n",
    "driver = webdriver.Chrome(service=service)\n",
    "driver.get('https://www.coinopsy.com/dead-coins/')"
   ]
  },
  {
   "cell_type": "code",
   "execution_count": 7,
   "id": "42334b84",
   "metadata": {},
   "outputs": [],
   "source": [
    "# get contents of table and add to text file\n",
    "def get_table():\n",
    "    odd_rows = driver.find_elements(By.CLASS_NAME, 'odd')\n",
    "    even_rows = driver.find_elements(By.CLASS_NAME, 'even')\n",
    "\n",
    "    for row in odd_rows + even_rows:\n",
    "        with open('coinopsy_raw.txt', 'a',  encoding='utf-8') as f:\n",
    "            f.write(row.text + '\\n')"
   ]
  },
  {
   "cell_type": "code",
   "execution_count": 9,
   "id": "63e33f92",
   "metadata": {},
   "outputs": [
    {
     "name": "stdout",
     "output_type": "stream",
     "text": [
      "end of pages\n"
     ]
    }
   ],
   "source": [
    "# get table, navigate to next page\n",
    "pages = 241\n",
    "\n",
    "for page in range(pages):\n",
    "    get_table()\n",
    "    next_button = driver.find_element(By.CLASS_NAME, 'next')\n",
    "    next_button.click()\n",
    "    time.sleep(random.randint(1,3))\n",
    "    \n",
    "print('end of pages')"
   ]
  }
 ],
 "metadata": {
  "kernelspec": {
   "display_name": "Python 3 (ipykernel)",
   "language": "python",
   "name": "python3"
  },
  "language_info": {
   "codemirror_mode": {
    "name": "ipython",
    "version": 3
   },
   "file_extension": ".py",
   "mimetype": "text/x-python",
   "name": "python",
   "nbconvert_exporter": "python",
   "pygments_lexer": "ipython3",
   "version": "3.8.8"
  }
 },
 "nbformat": 4,
 "nbformat_minor": 5
}
